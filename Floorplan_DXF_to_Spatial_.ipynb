{
  "nbformat": 4,
  "nbformat_minor": 0,
  "metadata": {
    "colab": {
      "provenance": [],
      "include_colab_link": true
    },
    "kernelspec": {
      "name": "python3",
      "display_name": "Python 3"
    },
    "language_info": {
      "name": "python"
    }
  },
  "cells": [
    {
      "cell_type": "markdown",
      "metadata": {
        "id": "view-in-github",
        "colab_type": "text"
      },
      "source": [
        "<a href=\"https://colab.research.google.com/github/Mike-Morrow/CAD-to-Spatial/blob/main/Floorplan_DXF_to_Spatial_.ipynb\" target=\"_parent\"><img src=\"https://colab.research.google.com/assets/colab-badge.svg\" alt=\"Open In Colab\"/></a>"
      ]
    },
    {
      "cell_type": "markdown",
      "source": [
        "# Read DXF -> GeoDataFrames -> Georeferences GeoDataFrame -> Write GeoJson's\n",
        "\n",
        "* Step 1: read in DXF into geopandas geodataframe (gdf)\n",
        "<br><br>\n",
        "* Step 2: split the gdf into multiple gdf's based on geometry type then only keep what we want\n",
        "<br><br>\n",
        "* Step 3: get the control point mappings \n",
        "<br><br>\n",
        "* Step 3: apply a linear transformation to georeference our gdf's\n",
        "<br><br>\n",
        "* Step 4: output gdf's to geojson \n",
        "\n",
        "\n",
        "---\n",
        "\n",
        "\n",
        "\n",
        "---\n",
        "\n"
      ],
      "metadata": {
        "id": "9RMBDyc2jxiC"
      }
    },
    {
      "cell_type": "markdown",
      "source": [
        "### Install geopandas"
      ],
      "metadata": {
        "id": "NAn9s7ogFZYE"
      }
    },
    {
      "cell_type": "code",
      "source": [
        "!pip install geopandas"
      ],
      "metadata": {
        "id": "NMNtdxWdj5i6",
        "colab": {
          "base_uri": "https://localhost:8080/"
        },
        "outputId": "2fa71551-f402-4b11-8bcd-41d56ce6d5c2"
      },
      "execution_count": null,
      "outputs": [
        {
          "output_type": "stream",
          "name": "stdout",
          "text": [
            "Looking in indexes: https://pypi.org/simple, https://us-python.pkg.dev/colab-wheels/public/simple/\n",
            "Collecting geopandas\n",
            "  Downloading geopandas-0.12.2-py3-none-any.whl (1.1 MB)\n",
            "\u001b[2K     \u001b[90m━━━━━━━━━━━━━━━━━━━━━━━━━━━━━━━━━━━━━━━━\u001b[0m \u001b[32m1.1/1.1 MB\u001b[0m \u001b[31m11.9 MB/s\u001b[0m eta \u001b[36m0:00:00\u001b[0m\n",
            "\u001b[?25hRequirement already satisfied: shapely>=1.7 in /usr/local/lib/python3.9/dist-packages (from geopandas) (2.0.1)\n",
            "Collecting pyproj>=2.6.1.post1\n",
            "  Downloading pyproj-3.4.1-cp39-cp39-manylinux_2_17_x86_64.manylinux2014_x86_64.whl (7.7 MB)\n",
            "\u001b[2K     \u001b[90m━━━━━━━━━━━━━━━━━━━━━━━━━━━━━━━━━━━━━━━━\u001b[0m \u001b[32m7.7/7.7 MB\u001b[0m \u001b[31m36.5 MB/s\u001b[0m eta \u001b[36m0:00:00\u001b[0m\n",
            "\u001b[?25hCollecting fiona>=1.8\n",
            "  Downloading Fiona-1.9.2-cp39-cp39-manylinux_2_17_x86_64.manylinux2014_x86_64.whl (16.1 MB)\n",
            "\u001b[2K     \u001b[90m━━━━━━━━━━━━━━━━━━━━━━━━━━━━━━━━━━━━━━━━\u001b[0m \u001b[32m16.1/16.1 MB\u001b[0m \u001b[31m26.4 MB/s\u001b[0m eta \u001b[36m0:00:00\u001b[0m\n",
            "\u001b[?25hRequirement already satisfied: pandas>=1.0.0 in /usr/local/lib/python3.9/dist-packages (from geopandas) (1.4.4)\n",
            "Requirement already satisfied: packaging in /usr/local/lib/python3.9/dist-packages (from geopandas) (23.0)\n",
            "Requirement already satisfied: click~=8.0 in /usr/local/lib/python3.9/dist-packages (from fiona>=1.8->geopandas) (8.1.3)\n",
            "Requirement already satisfied: certifi in /usr/local/lib/python3.9/dist-packages (from fiona>=1.8->geopandas) (2022.12.7)\n",
            "Collecting cligj>=0.5\n",
            "  Downloading cligj-0.7.2-py3-none-any.whl (7.1 kB)\n",
            "Requirement already satisfied: importlib-metadata in /usr/local/lib/python3.9/dist-packages (from fiona>=1.8->geopandas) (6.1.0)\n",
            "Collecting munch>=2.3.2\n",
            "  Downloading munch-2.5.0-py2.py3-none-any.whl (10 kB)\n",
            "Collecting click-plugins>=1.0\n",
            "  Downloading click_plugins-1.1.1-py2.py3-none-any.whl (7.5 kB)\n",
            "Requirement already satisfied: attrs>=19.2.0 in /usr/local/lib/python3.9/dist-packages (from fiona>=1.8->geopandas) (22.2.0)\n",
            "Requirement already satisfied: pytz>=2020.1 in /usr/local/lib/python3.9/dist-packages (from pandas>=1.0.0->geopandas) (2022.7.1)\n",
            "Requirement already satisfied: numpy>=1.18.5 in /usr/local/lib/python3.9/dist-packages (from pandas>=1.0.0->geopandas) (1.22.4)\n",
            "Requirement already satisfied: python-dateutil>=2.8.1 in /usr/local/lib/python3.9/dist-packages (from pandas>=1.0.0->geopandas) (2.8.2)\n",
            "Requirement already satisfied: six in /usr/local/lib/python3.9/dist-packages (from munch>=2.3.2->fiona>=1.8->geopandas) (1.16.0)\n",
            "Requirement already satisfied: zipp>=0.5 in /usr/local/lib/python3.9/dist-packages (from importlib-metadata->fiona>=1.8->geopandas) (3.15.0)\n",
            "Installing collected packages: pyproj, munch, cligj, click-plugins, fiona, geopandas\n",
            "Successfully installed click-plugins-1.1.1 cligj-0.7.2 fiona-1.9.2 geopandas-0.12.2 munch-2.5.0 pyproj-3.4.1\n"
          ]
        }
      ]
    },
    {
      "cell_type": "markdown",
      "source": [
        "### Upload CAD File\n",
        "\n",
        "Note we want DXF because DWG is a proprietary format. There might be ways to work with DWG's in Python but I ran into roadblocks. "
      ],
      "metadata": {
        "id": "UxE6ZgMkFgQt"
      }
    },
    {
      "cell_type": "code",
      "source": [
        "from google.colab import files\n",
        "\n",
        "# prompt the user to upload a file\n",
        "uploaded_file = files.upload()\n",
        "\n",
        "# get the file name and store it as a string\n",
        "file_name = list(uploaded_file.keys())[0]\n",
        "file_path = '/content/' + file_name\n",
        "\n",
        "print('File path:', file_path)"
      ],
      "metadata": {
        "colab": {
          "base_uri": "https://localhost:8080/",
          "height": 92
        },
        "id": "RLiDgx0_E2FB",
        "outputId": "81c7bc38-923f-46af-f235-dd3c5d630b85"
      },
      "execution_count": null,
      "outputs": [
        {
          "output_type": "display_data",
          "data": {
            "text/plain": [
              "<IPython.core.display.HTML object>"
            ],
            "text/html": [
              "\n",
              "     <input type=\"file\" id=\"files-3a4145ff-4b89-4ad3-83cc-7c65c2902aff\" name=\"files[]\" multiple disabled\n",
              "        style=\"border:none\" />\n",
              "     <output id=\"result-3a4145ff-4b89-4ad3-83cc-7c65c2902aff\">\n",
              "      Upload widget is only available when the cell has been executed in the\n",
              "      current browser session. Please rerun this cell to enable.\n",
              "      </output>\n",
              "      <script>// Copyright 2017 Google LLC\n",
              "//\n",
              "// Licensed under the Apache License, Version 2.0 (the \"License\");\n",
              "// you may not use this file except in compliance with the License.\n",
              "// You may obtain a copy of the License at\n",
              "//\n",
              "//      http://www.apache.org/licenses/LICENSE-2.0\n",
              "//\n",
              "// Unless required by applicable law or agreed to in writing, software\n",
              "// distributed under the License is distributed on an \"AS IS\" BASIS,\n",
              "// WITHOUT WARRANTIES OR CONDITIONS OF ANY KIND, either express or implied.\n",
              "// See the License for the specific language governing permissions and\n",
              "// limitations under the License.\n",
              "\n",
              "/**\n",
              " * @fileoverview Helpers for google.colab Python module.\n",
              " */\n",
              "(function(scope) {\n",
              "function span(text, styleAttributes = {}) {\n",
              "  const element = document.createElement('span');\n",
              "  element.textContent = text;\n",
              "  for (const key of Object.keys(styleAttributes)) {\n",
              "    element.style[key] = styleAttributes[key];\n",
              "  }\n",
              "  return element;\n",
              "}\n",
              "\n",
              "// Max number of bytes which will be uploaded at a time.\n",
              "const MAX_PAYLOAD_SIZE = 100 * 1024;\n",
              "\n",
              "function _uploadFiles(inputId, outputId) {\n",
              "  const steps = uploadFilesStep(inputId, outputId);\n",
              "  const outputElement = document.getElementById(outputId);\n",
              "  // Cache steps on the outputElement to make it available for the next call\n",
              "  // to uploadFilesContinue from Python.\n",
              "  outputElement.steps = steps;\n",
              "\n",
              "  return _uploadFilesContinue(outputId);\n",
              "}\n",
              "\n",
              "// This is roughly an async generator (not supported in the browser yet),\n",
              "// where there are multiple asynchronous steps and the Python side is going\n",
              "// to poll for completion of each step.\n",
              "// This uses a Promise to block the python side on completion of each step,\n",
              "// then passes the result of the previous step as the input to the next step.\n",
              "function _uploadFilesContinue(outputId) {\n",
              "  const outputElement = document.getElementById(outputId);\n",
              "  const steps = outputElement.steps;\n",
              "\n",
              "  const next = steps.next(outputElement.lastPromiseValue);\n",
              "  return Promise.resolve(next.value.promise).then((value) => {\n",
              "    // Cache the last promise value to make it available to the next\n",
              "    // step of the generator.\n",
              "    outputElement.lastPromiseValue = value;\n",
              "    return next.value.response;\n",
              "  });\n",
              "}\n",
              "\n",
              "/**\n",
              " * Generator function which is called between each async step of the upload\n",
              " * process.\n",
              " * @param {string} inputId Element ID of the input file picker element.\n",
              " * @param {string} outputId Element ID of the output display.\n",
              " * @return {!Iterable<!Object>} Iterable of next steps.\n",
              " */\n",
              "function* uploadFilesStep(inputId, outputId) {\n",
              "  const inputElement = document.getElementById(inputId);\n",
              "  inputElement.disabled = false;\n",
              "\n",
              "  const outputElement = document.getElementById(outputId);\n",
              "  outputElement.innerHTML = '';\n",
              "\n",
              "  const pickedPromise = new Promise((resolve) => {\n",
              "    inputElement.addEventListener('change', (e) => {\n",
              "      resolve(e.target.files);\n",
              "    });\n",
              "  });\n",
              "\n",
              "  const cancel = document.createElement('button');\n",
              "  inputElement.parentElement.appendChild(cancel);\n",
              "  cancel.textContent = 'Cancel upload';\n",
              "  const cancelPromise = new Promise((resolve) => {\n",
              "    cancel.onclick = () => {\n",
              "      resolve(null);\n",
              "    };\n",
              "  });\n",
              "\n",
              "  // Wait for the user to pick the files.\n",
              "  const files = yield {\n",
              "    promise: Promise.race([pickedPromise, cancelPromise]),\n",
              "    response: {\n",
              "      action: 'starting',\n",
              "    }\n",
              "  };\n",
              "\n",
              "  cancel.remove();\n",
              "\n",
              "  // Disable the input element since further picks are not allowed.\n",
              "  inputElement.disabled = true;\n",
              "\n",
              "  if (!files) {\n",
              "    return {\n",
              "      response: {\n",
              "        action: 'complete',\n",
              "      }\n",
              "    };\n",
              "  }\n",
              "\n",
              "  for (const file of files) {\n",
              "    const li = document.createElement('li');\n",
              "    li.append(span(file.name, {fontWeight: 'bold'}));\n",
              "    li.append(span(\n",
              "        `(${file.type || 'n/a'}) - ${file.size} bytes, ` +\n",
              "        `last modified: ${\n",
              "            file.lastModifiedDate ? file.lastModifiedDate.toLocaleDateString() :\n",
              "                                    'n/a'} - `));\n",
              "    const percent = span('0% done');\n",
              "    li.appendChild(percent);\n",
              "\n",
              "    outputElement.appendChild(li);\n",
              "\n",
              "    const fileDataPromise = new Promise((resolve) => {\n",
              "      const reader = new FileReader();\n",
              "      reader.onload = (e) => {\n",
              "        resolve(e.target.result);\n",
              "      };\n",
              "      reader.readAsArrayBuffer(file);\n",
              "    });\n",
              "    // Wait for the data to be ready.\n",
              "    let fileData = yield {\n",
              "      promise: fileDataPromise,\n",
              "      response: {\n",
              "        action: 'continue',\n",
              "      }\n",
              "    };\n",
              "\n",
              "    // Use a chunked sending to avoid message size limits. See b/62115660.\n",
              "    let position = 0;\n",
              "    do {\n",
              "      const length = Math.min(fileData.byteLength - position, MAX_PAYLOAD_SIZE);\n",
              "      const chunk = new Uint8Array(fileData, position, length);\n",
              "      position += length;\n",
              "\n",
              "      const base64 = btoa(String.fromCharCode.apply(null, chunk));\n",
              "      yield {\n",
              "        response: {\n",
              "          action: 'append',\n",
              "          file: file.name,\n",
              "          data: base64,\n",
              "        },\n",
              "      };\n",
              "\n",
              "      let percentDone = fileData.byteLength === 0 ?\n",
              "          100 :\n",
              "          Math.round((position / fileData.byteLength) * 100);\n",
              "      percent.textContent = `${percentDone}% done`;\n",
              "\n",
              "    } while (position < fileData.byteLength);\n",
              "  }\n",
              "\n",
              "  // All done.\n",
              "  yield {\n",
              "    response: {\n",
              "      action: 'complete',\n",
              "    }\n",
              "  };\n",
              "}\n",
              "\n",
              "scope.google = scope.google || {};\n",
              "scope.google.colab = scope.google.colab || {};\n",
              "scope.google.colab._files = {\n",
              "  _uploadFiles,\n",
              "  _uploadFilesContinue,\n",
              "};\n",
              "})(self);\n",
              "</script> "
            ]
          },
          "metadata": {}
        },
        {
          "output_type": "stream",
          "name": "stdout",
          "text": [
            "Saving #Sample_Floorplan.dxf to #Sample_Floorplan.dxf\n",
            "File path: /content/#Sample_Floorplan.dxf\n"
          ]
        }
      ]
    },
    {
      "cell_type": "markdown",
      "source": [
        "### Create GeoDataFrame from DXF file using GeoPandas"
      ],
      "metadata": {
        "id": "NbIWIBdXGbv4"
      }
    },
    {
      "cell_type": "code",
      "source": [
        "import geopandas as gpd\n",
        "\n",
        "floorplan_gdf = gpd.read_file(file_path)"
      ],
      "metadata": {
        "id": "HZFoZAoPE-YW"
      },
      "execution_count": null,
      "outputs": []
    },
    {
      "cell_type": "markdown",
      "source": [
        "### Preview the GDF"
      ],
      "metadata": {
        "id": "U3T7q_fMGiyP"
      }
    },
    {
      "cell_type": "code",
      "source": [
        "floorplan_gdf.head()"
      ],
      "metadata": {
        "id": "kEfKiL0x6VNJ",
        "colab": {
          "base_uri": "https://localhost:8080/",
          "height": 337
        },
        "outputId": "23fb9935-d5a0-44ac-8911-b7e862c69d90"
      },
      "execution_count": null,
      "outputs": [
        {
          "output_type": "execute_result",
          "data": {
            "text/plain": [
              "       Layer  PaperSpace                     SubClasses Linetype EntityHandle  \\\n",
              "0  ARCH-FURN         NaN            AcDbEntity:AcDbLine  ByLayer         F294   \n",
              "1  ARCH-FURN         NaN            AcDbEntity:AcDbLine  ByLayer         F295   \n",
              "2  ARCH-FURN         NaN            AcDbEntity:AcDbLine  ByLayer         F296   \n",
              "3  ARCH-FURN         NaN            AcDbEntity:AcDbLine  ByLayer         F297   \n",
              "4  ARCH-FURN         NaN  AcDbEntity:AcDbBlockReference  ByLayer         F298   \n",
              "\n",
              "  Text                                           geometry  \n",
              "0  NaN      LINESTRING (488.250 961.000, 691.831 961.000)  \n",
              "1  NaN      LINESTRING (694.831 964.000, 488.250 964.000)  \n",
              "2  NaN      LINESTRING (488.250 964.000, 488.250 961.000)  \n",
              "3  NaN      LINESTRING (691.831 961.000, 691.831 954.335)  \n",
              "4  NaN  MULTILINESTRING ((1236.581 1312.625, 1210.581 ...  "
            ],
            "text/html": [
              "\n",
              "  <div id=\"df-78d7659f-7ade-4442-b41c-367fa8fdc6ba\">\n",
              "    <div class=\"colab-df-container\">\n",
              "      <div>\n",
              "<style scoped>\n",
              "    .dataframe tbody tr th:only-of-type {\n",
              "        vertical-align: middle;\n",
              "    }\n",
              "\n",
              "    .dataframe tbody tr th {\n",
              "        vertical-align: top;\n",
              "    }\n",
              "\n",
              "    .dataframe thead th {\n",
              "        text-align: right;\n",
              "    }\n",
              "</style>\n",
              "<table border=\"1\" class=\"dataframe\">\n",
              "  <thead>\n",
              "    <tr style=\"text-align: right;\">\n",
              "      <th></th>\n",
              "      <th>Layer</th>\n",
              "      <th>PaperSpace</th>\n",
              "      <th>SubClasses</th>\n",
              "      <th>Linetype</th>\n",
              "      <th>EntityHandle</th>\n",
              "      <th>Text</th>\n",
              "      <th>geometry</th>\n",
              "    </tr>\n",
              "  </thead>\n",
              "  <tbody>\n",
              "    <tr>\n",
              "      <th>0</th>\n",
              "      <td>ARCH-FURN</td>\n",
              "      <td>NaN</td>\n",
              "      <td>AcDbEntity:AcDbLine</td>\n",
              "      <td>ByLayer</td>\n",
              "      <td>F294</td>\n",
              "      <td>NaN</td>\n",
              "      <td>LINESTRING (488.250 961.000, 691.831 961.000)</td>\n",
              "    </tr>\n",
              "    <tr>\n",
              "      <th>1</th>\n",
              "      <td>ARCH-FURN</td>\n",
              "      <td>NaN</td>\n",
              "      <td>AcDbEntity:AcDbLine</td>\n",
              "      <td>ByLayer</td>\n",
              "      <td>F295</td>\n",
              "      <td>NaN</td>\n",
              "      <td>LINESTRING (694.831 964.000, 488.250 964.000)</td>\n",
              "    </tr>\n",
              "    <tr>\n",
              "      <th>2</th>\n",
              "      <td>ARCH-FURN</td>\n",
              "      <td>NaN</td>\n",
              "      <td>AcDbEntity:AcDbLine</td>\n",
              "      <td>ByLayer</td>\n",
              "      <td>F296</td>\n",
              "      <td>NaN</td>\n",
              "      <td>LINESTRING (488.250 964.000, 488.250 961.000)</td>\n",
              "    </tr>\n",
              "    <tr>\n",
              "      <th>3</th>\n",
              "      <td>ARCH-FURN</td>\n",
              "      <td>NaN</td>\n",
              "      <td>AcDbEntity:AcDbLine</td>\n",
              "      <td>ByLayer</td>\n",
              "      <td>F297</td>\n",
              "      <td>NaN</td>\n",
              "      <td>LINESTRING (691.831 961.000, 691.831 954.335)</td>\n",
              "    </tr>\n",
              "    <tr>\n",
              "      <th>4</th>\n",
              "      <td>ARCH-FURN</td>\n",
              "      <td>NaN</td>\n",
              "      <td>AcDbEntity:AcDbBlockReference</td>\n",
              "      <td>ByLayer</td>\n",
              "      <td>F298</td>\n",
              "      <td>NaN</td>\n",
              "      <td>MULTILINESTRING ((1236.581 1312.625, 1210.581 ...</td>\n",
              "    </tr>\n",
              "  </tbody>\n",
              "</table>\n",
              "</div>\n",
              "      <button class=\"colab-df-convert\" onclick=\"convertToInteractive('df-78d7659f-7ade-4442-b41c-367fa8fdc6ba')\"\n",
              "              title=\"Convert this dataframe to an interactive table.\"\n",
              "              style=\"display:none;\">\n",
              "        \n",
              "  <svg xmlns=\"http://www.w3.org/2000/svg\" height=\"24px\"viewBox=\"0 0 24 24\"\n",
              "       width=\"24px\">\n",
              "    <path d=\"M0 0h24v24H0V0z\" fill=\"none\"/>\n",
              "    <path d=\"M18.56 5.44l.94 2.06.94-2.06 2.06-.94-2.06-.94-.94-2.06-.94 2.06-2.06.94zm-11 1L8.5 8.5l.94-2.06 2.06-.94-2.06-.94L8.5 2.5l-.94 2.06-2.06.94zm10 10l.94 2.06.94-2.06 2.06-.94-2.06-.94-.94-2.06-.94 2.06-2.06.94z\"/><path d=\"M17.41 7.96l-1.37-1.37c-.4-.4-.92-.59-1.43-.59-.52 0-1.04.2-1.43.59L10.3 9.45l-7.72 7.72c-.78.78-.78 2.05 0 2.83L4 21.41c.39.39.9.59 1.41.59.51 0 1.02-.2 1.41-.59l7.78-7.78 2.81-2.81c.8-.78.8-2.07 0-2.86zM5.41 20L4 18.59l7.72-7.72 1.47 1.35L5.41 20z\"/>\n",
              "  </svg>\n",
              "      </button>\n",
              "      \n",
              "  <style>\n",
              "    .colab-df-container {\n",
              "      display:flex;\n",
              "      flex-wrap:wrap;\n",
              "      gap: 12px;\n",
              "    }\n",
              "\n",
              "    .colab-df-convert {\n",
              "      background-color: #E8F0FE;\n",
              "      border: none;\n",
              "      border-radius: 50%;\n",
              "      cursor: pointer;\n",
              "      display: none;\n",
              "      fill: #1967D2;\n",
              "      height: 32px;\n",
              "      padding: 0 0 0 0;\n",
              "      width: 32px;\n",
              "    }\n",
              "\n",
              "    .colab-df-convert:hover {\n",
              "      background-color: #E2EBFA;\n",
              "      box-shadow: 0px 1px 2px rgba(60, 64, 67, 0.3), 0px 1px 3px 1px rgba(60, 64, 67, 0.15);\n",
              "      fill: #174EA6;\n",
              "    }\n",
              "\n",
              "    [theme=dark] .colab-df-convert {\n",
              "      background-color: #3B4455;\n",
              "      fill: #D2E3FC;\n",
              "    }\n",
              "\n",
              "    [theme=dark] .colab-df-convert:hover {\n",
              "      background-color: #434B5C;\n",
              "      box-shadow: 0px 1px 3px 1px rgba(0, 0, 0, 0.15);\n",
              "      filter: drop-shadow(0px 1px 2px rgba(0, 0, 0, 0.3));\n",
              "      fill: #FFFFFF;\n",
              "    }\n",
              "  </style>\n",
              "\n",
              "      <script>\n",
              "        const buttonEl =\n",
              "          document.querySelector('#df-78d7659f-7ade-4442-b41c-367fa8fdc6ba button.colab-df-convert');\n",
              "        buttonEl.style.display =\n",
              "          google.colab.kernel.accessAllowed ? 'block' : 'none';\n",
              "\n",
              "        async function convertToInteractive(key) {\n",
              "          const element = document.querySelector('#df-78d7659f-7ade-4442-b41c-367fa8fdc6ba');\n",
              "          const dataTable =\n",
              "            await google.colab.kernel.invokeFunction('convertToInteractive',\n",
              "                                                     [key], {});\n",
              "          if (!dataTable) return;\n",
              "\n",
              "          const docLinkHtml = 'Like what you see? Visit the ' +\n",
              "            '<a target=\"_blank\" href=https://colab.research.google.com/notebooks/data_table.ipynb>data table notebook</a>'\n",
              "            + ' to learn more about interactive tables.';\n",
              "          element.innerHTML = '';\n",
              "          dataTable['output_type'] = 'display_data';\n",
              "          await google.colab.output.renderOutput(dataTable, element);\n",
              "          const docLink = document.createElement('div');\n",
              "          docLink.innerHTML = docLinkHtml;\n",
              "          element.appendChild(docLink);\n",
              "        }\n",
              "      </script>\n",
              "    </div>\n",
              "  </div>\n",
              "  "
            ]
          },
          "metadata": {},
          "execution_count": 5
        }
      ]
    },
    {
      "cell_type": "code",
      "source": [
        "floorplan_gdf.plot()"
      ],
      "metadata": {
        "colab": {
          "base_uri": "https://localhost:8080/",
          "height": 164
        },
        "id": "NxMTvZYW7ut3",
        "outputId": "2f2cea9b-cf32-40c8-d024-7e6ae8ffe66b"
      },
      "execution_count": null,
      "outputs": [
        {
          "output_type": "execute_result",
          "data": {
            "text/plain": [
              "<Axes: >"
            ]
          },
          "metadata": {},
          "execution_count": 6
        },
        {
          "output_type": "display_data",
          "data": {
            "text/plain": [
              "<Figure size 432x288 with 1 Axes>"
            ],
            "image/png": "[encoded data removed]"
          },
          "metadata": {
            "needs_background": "light"
          }
        }
      ]
    },
    {
      "cell_type": "markdown",
      "source": [
        "### Let's see how many unique geometry types we have"
      ],
      "metadata": {
        "id": "jTV5m7fJGl56"
      }
    },
    {
      "cell_type": "code",
      "source": [
        "# get the unique geometry types\n",
        "geometry_types = floorplan_gdf.geometry.type.unique()\n",
        "\n",
        "print(geometry_types)"
      ],
      "metadata": {
        "colab": {
          "base_uri": "https://localhost:8080/"
        },
        "id": "7muuA9roGE4u",
        "outputId": "2c5ce9c8-fe9d-4183-f59b-9e56b50e4158"
      },
      "execution_count": null,
      "outputs": [
        {
          "output_type": "stream",
          "name": "stdout",
          "text": [
            "['LineString' 'MultiLineString' 'GeometryCollection' 'Point']\n"
          ]
        }
      ]
    },
    {
      "cell_type": "markdown",
      "source": [
        "### Create multiple gdf's for each geometry type"
      ],
      "metadata": {
        "id": "TzbiiIht6aNV"
      }
    },
    {
      "cell_type": "code",
      "source": [
        "gdf_list = []\n",
        "\n",
        "# create a new GeoDataFrame for each geometry type\n",
        "for geometry_type in geometry_types:\n",
        "    gdf_list.append(floorplan_gdf[floorplan_gdf.geometry.type == geometry_type].copy())"
      ],
      "metadata": {
        "id": "_-CA0aqtGt9j"
      },
      "execution_count": null,
      "outputs": []
    },
    {
      "cell_type": "markdown",
      "source": [
        "### Preview them"
      ],
      "metadata": {
        "id": "EO7bfW676hna"
      }
    },
    {
      "cell_type": "code",
      "source": [
        "gdf_list[0].plot()\n",
        "gdf_list[1].plot()\n",
        "gdf_list[2].plot()\n",
        "gdf_list[3].plot()"
      ],
      "metadata": {
        "colab": {
          "base_uri": "https://localhost:8080/",
          "height": 800
        },
        "id": "YwXeJcXWHepV",
        "outputId": "49ee8338-f81a-4334-c1cb-fc70087025fd"
      },
      "execution_count": null,
      "outputs": [
        {
          "output_type": "execute_result",
          "data": {
            "text/plain": [
              "<Axes: >"
            ]
          },
          "metadata": {},
          "execution_count": 9
        },
        {
          "output_type": "display_data",
          "data": {
            "text/plain": [
              "<Figure size 432x288 with 1 Axes>"
            ],
            "image/png": "[encoded data removed]"
          },
          "metadata": {
            "needs_background": "light"
          }
        },
        {
          "output_type": "display_data",
          "data": {
            "text/plain": [
              "<Figure size 432x288 with 1 Axes>"
            ],
            "image/png": "[encoded data removed]"
          },
          "metadata": {
            "needs_background": "light"
          }
        },
        {
          "output_type": "display_data",
          "data": {
            "text/plain": [
              "<Figure size 432x288 with 1 Axes>"
            ],
            "image/png": "[encoded data removed]"
          },
          "metadata": {
            "needs_background": "light"
          }
        },
        {
          "output_type": "display_data",
          "data": {
            "text/plain": [
              "<Figure size 432x288 with 1 Axes>"
            ],
            "image/png": "[encoded data removed]"
          },
          "metadata": {
            "needs_background": "light"
          }
        }
      ]
    },
    {
      "cell_type": "markdown",
      "source": [
        "### Let's just keep the linestring and points gdf's"
      ],
      "metadata": {
        "id": "_dOrMKhn6lnS"
      }
    },
    {
      "cell_type": "code",
      "source": [
        "linestring_gdf = gdf_list[0]\n",
        "point_gdf = gdf_list[3]"
      ],
      "metadata": {
        "id": "had2gdW5LFnS"
      },
      "execution_count": null,
      "outputs": []
    },
    {
      "cell_type": "markdown",
      "source": [
        "\n",
        "\n",
        "---\n",
        "\n",
        "\n",
        "\n",
        "---\n",
        "\n",
        "\n",
        "## Let's get our control points (we'll use 5)\n",
        "\n",
        "In order to get control points we need to map out how our local X, Y coordinates relate to actual longitude and latitude on the earth's surface\n",
        "<br><br>\n",
        "*Note latitude and longitude are not linear / planar. \n",
        "<br><br>\n",
        "From wikipedia: \"Although latitude and longitude form a coordinate tuple like a cartesian coordinate system, the geographic coordinate system is not cartesian because the measurements are angles and are not on a planar surface\"\n",
        "<br><br>\n",
        "We're going to cheat and treat lat, lon as linear because our area of interest is so small. As that area becomes larger, we'd expect more distortion. In those cases, we'd want to use the appropriate cartesian coordinate system (i.e. UTM), instead of lat lon. \n",
        "\n",
        "\n",
        "---\n",
        "\n",
        "\n",
        "\n",
        "---\n",
        "\n"
      ],
      "metadata": {
        "id": "4z-z59426vdS"
      }
    },
    {
      "cell_type": "code",
      "source": [
        "import pandas as pd\n",
        "\n",
        "#define the control points\n",
        "data = [\n",
        "    {'X': 2648, 'Y': 2260, 'Lat': 38.90334414, 'Lon': -77.04248049},\n",
        "    {'X': 2645, 'Y': 1075, 'Lat': 38.90333969, 'Lon': -77.04216144},\n",
        "    {'X': 0, 'Y': 1309, 'Lat': 38.90275828, 'Lon': -77.0422264},\n",
        "    {'X': 649, 'Y': 1453, 'Lat': 38.90288602, 'Lon': -77.04226273},\n",
        "    {'X': 3883, 'Y': 127, 'Lat': 38.9036031, 'Lon': -77.04189755},\n",
        "    {'X': 1240, 'Y': 1075, 'Lat': 38.90301213, 'Lon': -77.04215566}\n",
        "]\n",
        "\n",
        "#create a df from the data\n",
        "control_df = pd.DataFrame(data)"
      ],
      "metadata": {
        "id": "A80zW4pY6xed"
      },
      "execution_count": null,
      "outputs": []
    },
    {
      "cell_type": "markdown",
      "source": [
        "## We're going to do 2 linear regressions \n",
        "### First one will map our local x to latitude\n",
        "### Second one will map local y to longitude"
      ],
      "metadata": {
        "id": "YmWg7EA7JyqQ"
      }
    },
    {
      "cell_type": "markdown",
      "source": [
        "### First we'll \"train\" our 2 models"
      ],
      "metadata": {
        "id": "GjKiI8VKHCvf"
      }
    },
    {
      "cell_type": "code",
      "source": [
        "import numpy as np\n",
        "\n",
        "#define our 2 arrays for our input and response variables\n",
        "x_array = np.array(control_df.X)\n",
        "lat_array = np.array(control_df.Lat)\n",
        "\n",
        "#create variables for slope and y intercept \n",
        "m_x, b_x = np.polyfit(x_array, lat_array, 1)\n",
        "\n",
        "print(\"slope: \", m_x)\n",
        "print(\"y-intercept: \", b_x)\n",
        "\n",
        "from sklearn.metrics import r2_score\n",
        "\n",
        "#calculate predicted values of y using the linear regression\n",
        "lat_pred = m_x*x_array + b_x\n",
        "\n",
        "#calculate R-squared \n",
        "r_squared_x = r2_score(lat_array, lat_pred)\n",
        "\n",
        "#print out  R-squared \n",
        "print(\"R-squared: \", r_squared_x)\n",
        "\n",
        "\n",
        "\n",
        "#do the same thing for y\n",
        "\n",
        "y_array = np.array(control_df.Y)\n",
        "lon_array = np.array(control_df.Lon)\n",
        "\n",
        "m_y, b_y = np.polyfit(y_array, lon_array, 1)\n",
        "\n",
        "print(\"slope: \", m_y)\n",
        "print(\"y-intercept: \", b_y)\n",
        "\n",
        "from sklearn.metrics import r2_score\n",
        "\n",
        "\n",
        "lon_pred = m_y*y_array + b_y\n",
        "\n",
        "\n",
        "r_squared_y = r2_score(lon_array, lon_pred)\n",
        "\n",
        "\n",
        "print(\"R-squared: \", r_squared_y)"
      ],
      "metadata": {
        "colab": {
          "base_uri": "https://localhost:8080/"
        },
        "id": "IyiDz84lKXfd",
        "outputId": "1acc76c2-467c-408e-891f-415fec3e3936"
      },
      "execution_count": null,
      "outputs": [
        {
          "output_type": "stream",
          "name": "stdout",
          "text": [
            "slope:  2.211691186525369e-07\n",
            "y-intercept:  38.90274935395035\n",
            "R-squared:  0.9992396097315736\n",
            "slope:  -2.735711952611875e-07\n",
            "y-intercept:  -77.0418645789743\n",
            "R-squared:  0.9997773262301302\n"
          ]
        }
      ]
    },
    {
      "cell_type": "markdown",
      "source": [
        "## Now we'll run the model for our x and y points"
      ],
      "metadata": {
        "id": "w_ixrF4qHwmY"
      }
    },
    {
      "cell_type": "code",
      "source": [
        "from shapely.geometry import Point\n",
        "\n",
        "point_gdf.geometry = point_gdf.geometry.apply(lambda geometry: Point(m_x * geometry.x + b_x, m_y * geometry.y + b_y))"
      ],
      "metadata": {
        "id": "ZEKJvDpjKZe9"
      },
      "execution_count": null,
      "outputs": []
    },
    {
      "cell_type": "markdown",
      "source": [
        "### Let's preview the results"
      ],
      "metadata": {
        "id": "6TA3z4aRH0Ah"
      }
    },
    {
      "cell_type": "code",
      "source": [
        "point_gdf.plot()"
      ],
      "metadata": {
        "colab": {
          "base_uri": "https://localhost:8080/",
          "height": 307
        },
        "id": "vuwO6IuiZUWl",
        "outputId": "ae05d7a2-2177-43a3-b8de-e99aa580e120"
      },
      "execution_count": null,
      "outputs": [
        {
          "output_type": "execute_result",
          "data": {
            "text/plain": [
              "<Axes: >"
            ]
          },
          "metadata": {},
          "execution_count": 14
        },
        {
          "output_type": "display_data",
          "data": {
            "text/plain": [
              "<Figure size 432x288 with 1 Axes>"
            ],
            "image/png": "[encoded data removed]"
          },
          "metadata": {
            "needs_background": "light"
          }
        }
      ]
    },
    {
      "cell_type": "markdown",
      "source": [
        "### The original CAD file is not North-oriented -- or in other words, up does not equal north. So we are going to swap the lat and lon values (we could have done this earlier before finding the control points)"
      ],
      "metadata": {
        "id": "A4nFyLVcBzqH"
      }
    },
    {
      "cell_type": "code",
      "source": [
        "point_gdf.geometry = point_gdf.geometry.apply(lambda geometry: Point(geometry.y, geometry.x))"
      ],
      "metadata": {
        "id": "1QuGTiBNaYRI"
      },
      "execution_count": null,
      "outputs": []
    },
    {
      "cell_type": "code",
      "source": [
        "point_gdf.plot()"
      ],
      "metadata": {
        "colab": {
          "base_uri": "https://localhost:8080/",
          "height": 307
        },
        "id": "48PVF96maal8",
        "outputId": "04910a75-e1cc-47b8-b51c-3b9dba0f9c2a"
      },
      "execution_count": null,
      "outputs": [
        {
          "output_type": "execute_result",
          "data": {
            "text/plain": [
              "<Axes: >"
            ]
          },
          "metadata": {},
          "execution_count": 16
        },
        {
          "output_type": "display_data",
          "data": {
            "text/plain": [
              "<Figure size 432x288 with 1 Axes>"
            ],
            "image/png": "[encoded data removed]"
          },
          "metadata": {
            "needs_background": "light"
          }
        }
      ]
    },
    {
      "cell_type": "markdown",
      "source": [
        "### Let's output to GeoJSON"
      ],
      "metadata": {
        "id": "tB2jGXX1C2Vg"
      }
    },
    {
      "cell_type": "code",
      "source": [
        "point_gdf.to_file(\"points_floorplan.geojson\", driver='GeoJSON')"
      ],
      "metadata": {
        "id": "z9dxrHr-aeob"
      },
      "execution_count": null,
      "outputs": []
    },
    {
      "cell_type": "markdown",
      "source": [
        "## Let's georeference our LineString gdf, plot it, and output to GeoJSON"
      ],
      "metadata": {
        "id": "TnLoT-llDDPu"
      }
    },
    {
      "cell_type": "code",
      "source": [
        "from shapely.geometry import LineString\n",
        "\n",
        "linestring_gdf['geometry'] = linestring_gdf['geometry'].apply(lambda geometry: LineString([(m_x * point[0] + b_x, m_y * point[1] + b_y) for point in geometry.coords]))\n",
        "\n",
        "#swapping x and y\n",
        "linestring_gdf['geometry'] = linestring_gdf['geometry'].apply(lambda geometry: LineString([(point[1], point[0]) for point in geometry.coords]))"
      ],
      "metadata": {
        "id": "y0ZpcSWgLAUF"
      },
      "execution_count": null,
      "outputs": []
    },
    {
      "cell_type": "code",
      "source": [
        "linestring_gdf.plot()"
      ],
      "metadata": {
        "colab": {
          "base_uri": "https://localhost:8080/",
          "height": 307
        },
        "id": "Xhh-hNX7bDL2",
        "outputId": "fde564f2-eca6-4a73-9893-23ce1ec76a1d"
      },
      "execution_count": null,
      "outputs": [
        {
          "output_type": "execute_result",
          "data": {
            "text/plain": [
              "<Axes: >"
            ]
          },
          "metadata": {},
          "execution_count": 19
        },
        {
          "output_type": "display_data",
          "data": {
            "text/plain": [
              "<Figure size 432x288 with 1 Axes>"
            ],
            "image/png": "[encoded data removed]"
          },
          "metadata": {
            "needs_background": "light"
          }
        }
      ]
    },
    {
      "cell_type": "code",
      "source": [
        "linestring_gdf.to_file(\"linestring_floorplan.geojson\", driver='GeoJSON')"
      ],
      "metadata": {
        "id": "xz7PgBmBWuOW"
      },
      "execution_count": null,
      "outputs": []
    }
  ]
}